{
 "cells": [
  {
   "cell_type": "code",
   "execution_count": 1,
   "id": "33095728",
   "metadata": {
    "execution": {
     "iopub.execute_input": "2024-05-30T09:26:00.268958Z",
     "iopub.status.busy": "2024-05-30T09:26:00.268579Z",
     "iopub.status.idle": "2024-05-30T09:26:06.705538Z",
     "shell.execute_reply": "2024-05-30T09:26:06.704768Z"
    },
    "papermill": {
     "duration": 6.449134,
     "end_time": "2024-05-30T09:26:06.707916",
     "exception": false,
     "start_time": "2024-05-30T09:26:00.258782",
     "status": "completed"
    },
    "tags": []
   },
   "outputs": [],
   "source": [
    "import torch\n",
    "import torch.nn as nn\n",
    "import torch.nn.functional as F\n",
    "import torch.optim as optim\n",
    "import torchvision\n",
    "import torchvision.transforms as transforms\n",
    "import torchvision.datasets as datasets\n",
    "\n",
    "import os\n",
    "import random\n",
    "import numpy as np"
   ]
  },
  {
   "cell_type": "code",
   "execution_count": null,
   "id": "48f8577c",
   "metadata": {
    "execution": {
     "iopub.execute_input": "2024-05-30T09:26:06.727543Z",
     "iopub.status.busy": "2024-05-30T09:26:06.726544Z",
     "iopub.status.idle": "2024-05-30T09:29:57.408439Z",
     "shell.execute_reply": "2024-05-30T09:29:57.407267Z"
    },
    "papermill": {
     "duration": 230.693795,
     "end_time": "2024-05-30T09:29:57.410782",
     "exception": false,
     "start_time": "2024-05-30T09:26:06.716987",
     "status": "completed"
    },
    "tags": []
   },
   "outputs": [],
   "source": [
    "!conda install -y gdown\n",
    "# https://drive.google.com/file/d/13vbSVWSeZkOAdP_bIxYhOSWtWSpyWBD0/view?usp=share_link\n",
    "!gdown --id 13vbSVWSeZkOAdP_bIxYhOSWtWSpyWBD0"
   ]
  },
  {
   "cell_type": "code",
   "execution_count": null,
   "id": "02d8a6b5",
   "metadata": {
    "execution": {
     "iopub.execute_input": "2024-05-30T09:29:57.700200Z",
     "iopub.status.busy": "2024-05-30T09:29:57.699815Z",
     "iopub.status.idle": "2024-05-30T09:30:27.564665Z",
     "shell.execute_reply": "2024-05-30T09:30:27.563473Z"
    },
    "papermill": {
     "duration": 29.990327,
     "end_time": "2024-05-30T09:30:27.567026",
     "exception": false,
     "start_time": "2024-05-30T09:29:57.576699",
     "status": "completed"
    },
    "tags": []
   },
   "outputs": [],
   "source": [
    "! unzip folder.zip"
   ]
  },
  {
   "cell_type": "code",
   "execution_count": 4,
   "id": "c29ba112",
   "metadata": {
    "execution": {
     "iopub.execute_input": "2024-05-30T09:30:27.942076Z",
     "iopub.status.busy": "2024-05-30T09:30:27.941306Z",
     "iopub.status.idle": "2024-05-30T09:30:28.918234Z",
     "shell.execute_reply": "2024-05-30T09:30:28.917108Z"
    },
    "papermill": {
     "duration": 1.15588,
     "end_time": "2024-05-30T09:30:28.920589",
     "exception": false,
     "start_time": "2024-05-30T09:30:27.764709",
     "status": "completed"
    },
    "tags": []
   },
   "outputs": [
    {
     "name": "stdout",
     "output_type": "stream",
     "text": [
      "__notebook__.ipynb  folder.zip\tlora-nonlora\r\n"
     ]
    }
   ],
   "source": [
    "! ls"
   ]
  },
  {
   "cell_type": "code",
   "execution_count": 5,
   "id": "519d9287",
   "metadata": {
    "execution": {
     "iopub.execute_input": "2024-05-30T09:30:29.272161Z",
     "iopub.status.busy": "2024-05-30T09:30:29.271428Z",
     "iopub.status.idle": "2024-05-30T09:30:29.279989Z",
     "shell.execute_reply": "2024-05-30T09:30:29.279243Z"
    },
    "papermill": {
     "duration": 0.186499,
     "end_time": "2024-05-30T09:30:29.282006",
     "exception": false,
     "start_time": "2024-05-30T09:30:29.095507",
     "status": "completed"
    },
    "tags": []
   },
   "outputs": [],
   "source": [
    "SEED = 1234\n",
    "\n",
    "random.seed(SEED)\n",
    "np.random.seed(SEED)\n",
    "torch.manual_seed(SEED)\n",
    "torch.cuda.manual_seed(SEED)\n",
    "torch.backends.cudnn.deterministic = True"
   ]
  },
  {
   "cell_type": "code",
   "execution_count": 6,
   "id": "bbf0e8b1",
   "metadata": {
    "execution": {
     "iopub.execute_input": "2024-05-30T09:30:29.635286Z",
     "iopub.status.busy": "2024-05-30T09:30:29.634928Z",
     "iopub.status.idle": "2024-05-30T09:30:29.642241Z",
     "shell.execute_reply": "2024-05-30T09:30:29.641484Z"
    },
    "papermill": {
     "duration": 0.187173,
     "end_time": "2024-05-30T09:30:29.644123",
     "exception": false,
     "start_time": "2024-05-30T09:30:29.456950",
     "status": "completed"
    },
    "tags": []
   },
   "outputs": [],
   "source": [
    "train_transforms = transforms.Compose([\n",
    "                           transforms.RandomHorizontalFlip(),\n",
    "                           transforms.RandomRotation(10),\n",
    "                           transforms.RandomCrop((224, 224), pad_if_needed=True),\n",
    "                           transforms.ToTensor(),\n",
    "                           transforms.Normalize((0.485, 0.456, 0.406),(0.229, 0.224, 0.225))\n",
    "                       ])\n",
    "\n",
    "test_transforms = transforms.Compose([\n",
    "                           transforms.CenterCrop((224, 224)),\n",
    "                           transforms.ToTensor(),\n",
    "                           transforms.Normalize((0.485, 0.456, 0.406),(0.229, 0.224, 0.225))\n",
    "                       ])"
   ]
  },
  {
   "cell_type": "code",
   "execution_count": 7,
   "id": "7c578e04",
   "metadata": {
    "execution": {
     "iopub.execute_input": "2024-05-30T09:30:29.994423Z",
     "iopub.status.busy": "2024-05-30T09:30:29.994042Z",
     "iopub.status.idle": "2024-05-30T09:30:30.023354Z",
     "shell.execute_reply": "2024-05-30T09:30:30.022576Z"
    },
    "papermill": {
     "duration": 0.206271,
     "end_time": "2024-05-30T09:30:30.025376",
     "exception": false,
     "start_time": "2024-05-30T09:30:29.819105",
     "status": "completed"
    },
    "tags": []
   },
   "outputs": [],
   "source": [
    "train_data = datasets.ImageFolder('/kaggle/working/lora-nonlora/train', train_transforms)\n",
    "valid_data = datasets.ImageFolder('/kaggle/working/lora-nonlora/valid', test_transforms)\n",
    "test_data = datasets.ImageFolder('/kaggle/working/lora-nonlora/test', test_transforms)\n",
    "\n",
    "#import os\n",
    "\n",
    "#print(len(os.listdir('data/dogs-vs-cats/train')))\n",
    "\n",
    "#n_train_examples = int(len(train_data)*0.9)\n",
    "#n_valid_examples = n_test_examples = len(train_data) - n_train_examples\n",
    "\n",
    "#train_data, valid_data = torch.utils.data.random_split(train_data, [n_train_examples, n_valid_examples])\n",
    "#train_data, test_data = torch.utils.data.random_split(train_data, [n_train_examples-n_valid_examples, n_test_examples])"
   ]
  },
  {
   "cell_type": "markdown",
   "id": "f18fdc2b",
   "metadata": {
    "papermill": {
     "duration": 0.176654,
     "end_time": "2024-05-30T09:30:30.386371",
     "exception": false,
     "start_time": "2024-05-30T09:30:30.209717",
     "status": "completed"
    },
    "tags": []
   },
   "source": [
    "https://github.com/facebook/fb.resnet.torch/issues/180\n",
    "https://github.com/bamos/densenet.pytorch/blob/master/compute-cifar10-mean.py"
   ]
  },
  {
   "cell_type": "code",
   "execution_count": 8,
   "id": "f1e9310a",
   "metadata": {
    "execution": {
     "iopub.execute_input": "2024-05-30T09:30:30.739024Z",
     "iopub.status.busy": "2024-05-30T09:30:30.738265Z",
     "iopub.status.idle": "2024-05-30T09:30:30.743405Z",
     "shell.execute_reply": "2024-05-30T09:30:30.742457Z"
    },
    "papermill": {
     "duration": 0.186141,
     "end_time": "2024-05-30T09:30:30.745979",
     "exception": false,
     "start_time": "2024-05-30T09:30:30.559838",
     "status": "completed"
    },
    "tags": []
   },
   "outputs": [
    {
     "name": "stdout",
     "output_type": "stream",
     "text": [
      "Number of training examples: 3156\n",
      "Number of validation examples: 80\n",
      "Number of testing examples: 1000\n"
     ]
    }
   ],
   "source": [
    "print(f'Number of training examples: {len(train_data)}')\n",
    "print(f'Number of validation examples: {len(valid_data)}')\n",
    "print(f'Number of testing examples: {len(test_data)}')"
   ]
  },
  {
   "cell_type": "code",
   "execution_count": 9,
   "id": "39680a15",
   "metadata": {
    "execution": {
     "iopub.execute_input": "2024-05-30T09:30:31.097645Z",
     "iopub.status.busy": "2024-05-30T09:30:31.096921Z",
     "iopub.status.idle": "2024-05-30T09:30:31.102985Z",
     "shell.execute_reply": "2024-05-30T09:30:31.102112Z"
    },
    "papermill": {
     "duration": 0.183493,
     "end_time": "2024-05-30T09:30:31.104910",
     "exception": false,
     "start_time": "2024-05-30T09:30:30.921417",
     "status": "completed"
    },
    "tags": []
   },
   "outputs": [],
   "source": [
    "BATCH_SIZE = 64\n",
    "\n",
    "train_iterator = torch.utils.data.DataLoader(train_data, shuffle=True, batch_size=BATCH_SIZE)\n",
    "# print(train_data)\n",
    "# for data, label in train_iterator:\n",
    "#     print(data)\n",
    "#     print(label)\n",
    "valid_iterator = torch.utils.data.DataLoader(valid_data, batch_size=BATCH_SIZE)\n",
    "test_iterator = torch.utils.data.DataLoader(test_data, batch_size=BATCH_SIZE)"
   ]
  },
  {
   "cell_type": "markdown",
   "id": "d86e2a75",
   "metadata": {
    "papermill": {
     "duration": 0.175598,
     "end_time": "2024-05-30T09:30:31.454299",
     "exception": false,
     "start_time": "2024-05-30T09:30:31.278701",
     "status": "completed"
    },
    "tags": []
   },
   "source": [
    "https://discuss.pytorch.org/t/why-does-the-resnet-model-given-by-pytorch-omit-biases-from-the-convolutional-layer/10990/4\n",
    "https://github.com/kuangliu/pytorch-cifar/blob/master/models/resnet.py"
   ]
  },
  {
   "cell_type": "code",
   "execution_count": 10,
   "id": "a2e75214",
   "metadata": {
    "execution": {
     "iopub.execute_input": "2024-05-30T09:30:31.808018Z",
     "iopub.status.busy": "2024-05-30T09:30:31.807625Z",
     "iopub.status.idle": "2024-05-30T09:30:31.898256Z",
     "shell.execute_reply": "2024-05-30T09:30:31.897256Z"
    },
    "papermill": {
     "duration": 0.265911,
     "end_time": "2024-05-30T09:30:31.900323",
     "exception": false,
     "start_time": "2024-05-30T09:30:31.634412",
     "status": "completed"
    },
    "tags": []
   },
   "outputs": [
    {
     "name": "stdout",
     "output_type": "stream",
     "text": [
      "True\n"
     ]
    }
   ],
   "source": [
    "import torch\n",
    "print(torch.cuda.is_available())\n"
   ]
  },
  {
   "cell_type": "code",
   "execution_count": 11,
   "id": "bbdeb87b",
   "metadata": {
    "execution": {
     "iopub.execute_input": "2024-05-30T09:30:32.252239Z",
     "iopub.status.busy": "2024-05-30T09:30:32.251908Z",
     "iopub.status.idle": "2024-05-30T09:30:32.256427Z",
     "shell.execute_reply": "2024-05-30T09:30:32.255606Z"
    },
    "papermill": {
     "duration": 0.1822,
     "end_time": "2024-05-30T09:30:32.258297",
     "exception": false,
     "start_time": "2024-05-30T09:30:32.076097",
     "status": "completed"
    },
    "tags": []
   },
   "outputs": [],
   "source": [
    "device = torch.device(\"cuda:0\" if torch.cuda.is_available() else \"cpu\")\n"
   ]
  },
  {
   "cell_type": "code",
   "execution_count": 12,
   "id": "cca23c4f",
   "metadata": {
    "execution": {
     "iopub.execute_input": "2024-05-30T09:30:32.652046Z",
     "iopub.status.busy": "2024-05-30T09:30:32.651090Z",
     "iopub.status.idle": "2024-05-30T09:30:33.154146Z",
     "shell.execute_reply": "2024-05-30T09:30:33.153355Z"
    },
    "papermill": {
     "duration": 0.723138,
     "end_time": "2024-05-30T09:30:33.156610",
     "exception": false,
     "start_time": "2024-05-30T09:30:32.433472",
     "status": "completed"
    },
    "tags": []
   },
   "outputs": [],
   "source": [
    "import torchvision.models as models\n",
    "\n",
    "model = models.resnet18().to(device)"
   ]
  },
  {
   "cell_type": "code",
   "execution_count": 13,
   "id": "29a467e1",
   "metadata": {
    "execution": {
     "iopub.execute_input": "2024-05-30T09:30:33.509239Z",
     "iopub.status.busy": "2024-05-30T09:30:33.508885Z",
     "iopub.status.idle": "2024-05-30T09:30:33.514396Z",
     "shell.execute_reply": "2024-05-30T09:30:33.513580Z"
    },
    "papermill": {
     "duration": 0.18387,
     "end_time": "2024-05-30T09:30:33.517287",
     "exception": false,
     "start_time": "2024-05-30T09:30:33.333417",
     "status": "completed"
    },
    "tags": []
   },
   "outputs": [
    {
     "name": "stdout",
     "output_type": "stream",
     "text": [
      "ResNet(\n",
      "  (conv1): Conv2d(3, 64, kernel_size=(7, 7), stride=(2, 2), padding=(3, 3), bias=False)\n",
      "  (bn1): BatchNorm2d(64, eps=1e-05, momentum=0.1, affine=True, track_running_stats=True)\n",
      "  (relu): ReLU(inplace=True)\n",
      "  (maxpool): MaxPool2d(kernel_size=3, stride=2, padding=1, dilation=1, ceil_mode=False)\n",
      "  (layer1): Sequential(\n",
      "    (0): BasicBlock(\n",
      "      (conv1): Conv2d(64, 64, kernel_size=(3, 3), stride=(1, 1), padding=(1, 1), bias=False)\n",
      "      (bn1): BatchNorm2d(64, eps=1e-05, momentum=0.1, affine=True, track_running_stats=True)\n",
      "      (relu): ReLU(inplace=True)\n",
      "      (conv2): Conv2d(64, 64, kernel_size=(3, 3), stride=(1, 1), padding=(1, 1), bias=False)\n",
      "      (bn2): BatchNorm2d(64, eps=1e-05, momentum=0.1, affine=True, track_running_stats=True)\n",
      "    )\n",
      "    (1): BasicBlock(\n",
      "      (conv1): Conv2d(64, 64, kernel_size=(3, 3), stride=(1, 1), padding=(1, 1), bias=False)\n",
      "      (bn1): BatchNorm2d(64, eps=1e-05, momentum=0.1, affine=True, track_running_stats=True)\n",
      "      (relu): ReLU(inplace=True)\n",
      "      (conv2): Conv2d(64, 64, kernel_size=(3, 3), stride=(1, 1), padding=(1, 1), bias=False)\n",
      "      (bn2): BatchNorm2d(64, eps=1e-05, momentum=0.1, affine=True, track_running_stats=True)\n",
      "    )\n",
      "  )\n",
      "  (layer2): Sequential(\n",
      "    (0): BasicBlock(\n",
      "      (conv1): Conv2d(64, 128, kernel_size=(3, 3), stride=(2, 2), padding=(1, 1), bias=False)\n",
      "      (bn1): BatchNorm2d(128, eps=1e-05, momentum=0.1, affine=True, track_running_stats=True)\n",
      "      (relu): ReLU(inplace=True)\n",
      "      (conv2): Conv2d(128, 128, kernel_size=(3, 3), stride=(1, 1), padding=(1, 1), bias=False)\n",
      "      (bn2): BatchNorm2d(128, eps=1e-05, momentum=0.1, affine=True, track_running_stats=True)\n",
      "      (downsample): Sequential(\n",
      "        (0): Conv2d(64, 128, kernel_size=(1, 1), stride=(2, 2), bias=False)\n",
      "        (1): BatchNorm2d(128, eps=1e-05, momentum=0.1, affine=True, track_running_stats=True)\n",
      "      )\n",
      "    )\n",
      "    (1): BasicBlock(\n",
      "      (conv1): Conv2d(128, 128, kernel_size=(3, 3), stride=(1, 1), padding=(1, 1), bias=False)\n",
      "      (bn1): BatchNorm2d(128, eps=1e-05, momentum=0.1, affine=True, track_running_stats=True)\n",
      "      (relu): ReLU(inplace=True)\n",
      "      (conv2): Conv2d(128, 128, kernel_size=(3, 3), stride=(1, 1), padding=(1, 1), bias=False)\n",
      "      (bn2): BatchNorm2d(128, eps=1e-05, momentum=0.1, affine=True, track_running_stats=True)\n",
      "    )\n",
      "  )\n",
      "  (layer3): Sequential(\n",
      "    (0): BasicBlock(\n",
      "      (conv1): Conv2d(128, 256, kernel_size=(3, 3), stride=(2, 2), padding=(1, 1), bias=False)\n",
      "      (bn1): BatchNorm2d(256, eps=1e-05, momentum=0.1, affine=True, track_running_stats=True)\n",
      "      (relu): ReLU(inplace=True)\n",
      "      (conv2): Conv2d(256, 256, kernel_size=(3, 3), stride=(1, 1), padding=(1, 1), bias=False)\n",
      "      (bn2): BatchNorm2d(256, eps=1e-05, momentum=0.1, affine=True, track_running_stats=True)\n",
      "      (downsample): Sequential(\n",
      "        (0): Conv2d(128, 256, kernel_size=(1, 1), stride=(2, 2), bias=False)\n",
      "        (1): BatchNorm2d(256, eps=1e-05, momentum=0.1, affine=True, track_running_stats=True)\n",
      "      )\n",
      "    )\n",
      "    (1): BasicBlock(\n",
      "      (conv1): Conv2d(256, 256, kernel_size=(3, 3), stride=(1, 1), padding=(1, 1), bias=False)\n",
      "      (bn1): BatchNorm2d(256, eps=1e-05, momentum=0.1, affine=True, track_running_stats=True)\n",
      "      (relu): ReLU(inplace=True)\n",
      "      (conv2): Conv2d(256, 256, kernel_size=(3, 3), stride=(1, 1), padding=(1, 1), bias=False)\n",
      "      (bn2): BatchNorm2d(256, eps=1e-05, momentum=0.1, affine=True, track_running_stats=True)\n",
      "    )\n",
      "  )\n",
      "  (layer4): Sequential(\n",
      "    (0): BasicBlock(\n",
      "      (conv1): Conv2d(256, 512, kernel_size=(3, 3), stride=(2, 2), padding=(1, 1), bias=False)\n",
      "      (bn1): BatchNorm2d(512, eps=1e-05, momentum=0.1, affine=True, track_running_stats=True)\n",
      "      (relu): ReLU(inplace=True)\n",
      "      (conv2): Conv2d(512, 512, kernel_size=(3, 3), stride=(1, 1), padding=(1, 1), bias=False)\n",
      "      (bn2): BatchNorm2d(512, eps=1e-05, momentum=0.1, affine=True, track_running_stats=True)\n",
      "      (downsample): Sequential(\n",
      "        (0): Conv2d(256, 512, kernel_size=(1, 1), stride=(2, 2), bias=False)\n",
      "        (1): BatchNorm2d(512, eps=1e-05, momentum=0.1, affine=True, track_running_stats=True)\n",
      "      )\n",
      "    )\n",
      "    (1): BasicBlock(\n",
      "      (conv1): Conv2d(512, 512, kernel_size=(3, 3), stride=(1, 1), padding=(1, 1), bias=False)\n",
      "      (bn1): BatchNorm2d(512, eps=1e-05, momentum=0.1, affine=True, track_running_stats=True)\n",
      "      (relu): ReLU(inplace=True)\n",
      "      (conv2): Conv2d(512, 512, kernel_size=(3, 3), stride=(1, 1), padding=(1, 1), bias=False)\n",
      "      (bn2): BatchNorm2d(512, eps=1e-05, momentum=0.1, affine=True, track_running_stats=True)\n",
      "    )\n",
      "  )\n",
      "  (avgpool): AdaptiveAvgPool2d(output_size=(1, 1))\n",
      "  (fc): Linear(in_features=512, out_features=1000, bias=True)\n",
      ")\n"
     ]
    }
   ],
   "source": [
    "print(model)"
   ]
  },
  {
   "cell_type": "code",
   "execution_count": 14,
   "id": "a3f96ad2",
   "metadata": {
    "execution": {
     "iopub.execute_input": "2024-05-30T09:30:33.865360Z",
     "iopub.status.busy": "2024-05-30T09:30:33.865011Z",
     "iopub.status.idle": "2024-05-30T09:30:33.869882Z",
     "shell.execute_reply": "2024-05-30T09:30:33.868989Z"
    },
    "papermill": {
     "duration": 0.178098,
     "end_time": "2024-05-30T09:30:33.871777",
     "exception": false,
     "start_time": "2024-05-30T09:30:33.693679",
     "status": "completed"
    },
    "tags": []
   },
   "outputs": [],
   "source": [
    "for param in model.parameters():\n",
    "    param.requires_grad = False"
   ]
  },
  {
   "cell_type": "code",
   "execution_count": 15,
   "id": "6f935cf0",
   "metadata": {
    "execution": {
     "iopub.execute_input": "2024-05-30T09:30:34.213241Z",
     "iopub.status.busy": "2024-05-30T09:30:34.212405Z",
     "iopub.status.idle": "2024-05-30T09:30:34.217349Z",
     "shell.execute_reply": "2024-05-30T09:30:34.216519Z"
    },
    "papermill": {
     "duration": 0.177919,
     "end_time": "2024-05-30T09:30:34.219477",
     "exception": false,
     "start_time": "2024-05-30T09:30:34.041558",
     "status": "completed"
    },
    "tags": []
   },
   "outputs": [
    {
     "name": "stdout",
     "output_type": "stream",
     "text": [
      "Linear(in_features=512, out_features=1000, bias=True)\n"
     ]
    }
   ],
   "source": [
    "print(model.fc)"
   ]
  },
  {
   "cell_type": "code",
   "execution_count": 16,
   "id": "cb3b09c2",
   "metadata": {
    "execution": {
     "iopub.execute_input": "2024-05-30T09:30:34.561501Z",
     "iopub.status.busy": "2024-05-30T09:30:34.560741Z",
     "iopub.status.idle": "2024-05-30T09:30:34.565883Z",
     "shell.execute_reply": "2024-05-30T09:30:34.565022Z"
    },
    "papermill": {
     "duration": 0.17795,
     "end_time": "2024-05-30T09:30:34.567820",
     "exception": false,
     "start_time": "2024-05-30T09:30:34.389870",
     "status": "completed"
    },
    "tags": []
   },
   "outputs": [],
   "source": [
    "model.fc = nn.Linear(in_features=512, out_features=2).to(device)"
   ]
  },
  {
   "cell_type": "code",
   "execution_count": 17,
   "id": "97c7adcd",
   "metadata": {
    "execution": {
     "iopub.execute_input": "2024-05-30T09:30:34.932957Z",
     "iopub.status.busy": "2024-05-30T09:30:34.932288Z",
     "iopub.status.idle": "2024-05-30T09:30:34.937465Z",
     "shell.execute_reply": "2024-05-30T09:30:34.936623Z"
    },
    "papermill": {
     "duration": 0.198264,
     "end_time": "2024-05-30T09:30:34.939372",
     "exception": false,
     "start_time": "2024-05-30T09:30:34.741108",
     "status": "completed"
    },
    "tags": []
   },
   "outputs": [],
   "source": [
    "optimizer = optim.Adam(model.parameters())"
   ]
  },
  {
   "cell_type": "code",
   "execution_count": 18,
   "id": "37b9c397",
   "metadata": {
    "execution": {
     "iopub.execute_input": "2024-05-30T09:30:35.279640Z",
     "iopub.status.busy": "2024-05-30T09:30:35.279197Z",
     "iopub.status.idle": "2024-05-30T09:30:35.283824Z",
     "shell.execute_reply": "2024-05-30T09:30:35.282951Z"
    },
    "papermill": {
     "duration": 0.177517,
     "end_time": "2024-05-30T09:30:35.285698",
     "exception": false,
     "start_time": "2024-05-30T09:30:35.108181",
     "status": "completed"
    },
    "tags": []
   },
   "outputs": [],
   "source": [
    "criterion = nn.CrossEntropyLoss()"
   ]
  },
  {
   "cell_type": "code",
   "execution_count": 19,
   "id": "5726e65f",
   "metadata": {
    "execution": {
     "iopub.execute_input": "2024-05-30T09:30:35.626105Z",
     "iopub.status.busy": "2024-05-30T09:30:35.625773Z",
     "iopub.status.idle": "2024-05-30T09:30:35.631188Z",
     "shell.execute_reply": "2024-05-30T09:30:35.630187Z"
    },
    "papermill": {
     "duration": 0.178535,
     "end_time": "2024-05-30T09:30:35.633142",
     "exception": false,
     "start_time": "2024-05-30T09:30:35.454607",
     "status": "completed"
    },
    "tags": []
   },
   "outputs": [],
   "source": [
    "def calculate_accuracy(fx, y):\n",
    "    preds = fx.max(1, keepdim=True)[1]\n",
    "    correct = preds.eq(y.view_as(preds)).sum()\n",
    "    acc = correct.float()/preds.shape[0]\n",
    "    return acc"
   ]
  },
  {
   "cell_type": "code",
   "execution_count": 20,
   "id": "2e7adddb",
   "metadata": {
    "execution": {
     "iopub.execute_input": "2024-05-30T09:30:35.981288Z",
     "iopub.status.busy": "2024-05-30T09:30:35.980631Z",
     "iopub.status.idle": "2024-05-30T09:30:35.987930Z",
     "shell.execute_reply": "2024-05-30T09:30:35.986921Z"
    },
    "papermill": {
     "duration": 0.183927,
     "end_time": "2024-05-30T09:30:35.990164",
     "exception": false,
     "start_time": "2024-05-30T09:30:35.806237",
     "status": "completed"
    },
    "tags": []
   },
   "outputs": [],
   "source": [
    "def train(model, device, iterator, optimizer, criterion):\n",
    "    \n",
    "    epoch_loss = 0\n",
    "    epoch_acc = 0\n",
    "    \n",
    "    model.train()\n",
    "    \n",
    "    for (x, y) in iterator:\n",
    "        \n",
    "        x = x.to(device)\n",
    "        y = y.to(device)\n",
    "        \n",
    "        optimizer.zero_grad()\n",
    "                \n",
    "        fx = model(x)\n",
    "        loss = criterion(fx, y)\n",
    "        \n",
    "        acc = calculate_accuracy(fx, y)\n",
    "        \n",
    "        loss.backward()\n",
    "        \n",
    "        optimizer.step()\n",
    "        \n",
    "        epoch_loss += loss.item()\n",
    "        epoch_acc += acc.item()\n",
    "        \n",
    "    return epoch_loss / len(iterator), epoch_acc / len(iterator)"
   ]
  },
  {
   "cell_type": "code",
   "execution_count": 21,
   "id": "3c280ebb",
   "metadata": {
    "execution": {
     "iopub.execute_input": "2024-05-30T09:30:36.336239Z",
     "iopub.status.busy": "2024-05-30T09:30:36.335351Z",
     "iopub.status.idle": "2024-05-30T09:30:36.342391Z",
     "shell.execute_reply": "2024-05-30T09:30:36.341429Z"
    },
    "papermill": {
     "duration": 0.181965,
     "end_time": "2024-05-30T09:30:36.344314",
     "exception": false,
     "start_time": "2024-05-30T09:30:36.162349",
     "status": "completed"
    },
    "tags": []
   },
   "outputs": [],
   "source": [
    "def evaluate(model, device, iterator, criterion):\n",
    "    \n",
    "    epoch_loss = 0\n",
    "    epoch_acc = 0\n",
    "    \n",
    "    model.eval()\n",
    "    \n",
    "    with torch.no_grad():\n",
    "        for (x, y) in iterator:\n",
    "\n",
    "            x = x.to(device)\n",
    "            y = y.to(device)\n",
    "\n",
    "            fx = model(x)\n",
    "            # print(x)\n",
    "            # print(fx)\n",
    "\n",
    "            loss = criterion(fx, y)\n",
    "\n",
    "            acc = calculate_accuracy(fx, y)\n",
    "\n",
    "            epoch_loss += loss.item()\n",
    "            epoch_acc += acc.item()\n",
    "        \n",
    "    return epoch_loss / len(iterator), epoch_acc / len(iterator)"
   ]
  },
  {
   "cell_type": "code",
   "execution_count": 22,
   "id": "7eb2da2d",
   "metadata": {
    "execution": {
     "iopub.execute_input": "2024-05-30T09:30:36.691352Z",
     "iopub.status.busy": "2024-05-30T09:30:36.690961Z",
     "iopub.status.idle": "2024-05-30T09:42:11.666022Z",
     "shell.execute_reply": "2024-05-30T09:42:11.665036Z"
    },
    "papermill": {
     "duration": 695.322249,
     "end_time": "2024-05-30T09:42:11.839136",
     "exception": false,
     "start_time": "2024-05-30T09:30:36.516887",
     "status": "completed"
    },
    "tags": []
   },
   "outputs": [
    {
     "name": "stdout",
     "output_type": "stream",
     "text": [
      "| Epoch: 01 | Train Loss: 0.319 | Train Acc: 87.99% | Val. Loss: 0.326 | Val. Acc: 96.88% |\n",
      "| Epoch: 02 | Train Loss: 0.257 | Train Acc: 90.99% | Val. Loss: 0.382 | Val. Acc: 84.38% |\n",
      "| Epoch: 03 | Train Loss: 0.235 | Train Acc: 91.99% | Val. Loss: 0.220 | Val. Acc: 96.88% |\n",
      "| Epoch: 04 | Train Loss: 0.224 | Train Acc: 91.99% | Val. Loss: 0.182 | Val. Acc: 96.88% |\n",
      "| Epoch: 05 | Train Loss: 0.222 | Train Acc: 91.98% | Val. Loss: 0.191 | Val. Acc: 96.88% |\n",
      "| Epoch: 06 | Train Loss: 0.225 | Train Acc: 91.98% | Val. Loss: 0.177 | Val. Acc: 96.88% |\n",
      "| Epoch: 07 | Train Loss: 0.214 | Train Acc: 92.48% | Val. Loss: 0.164 | Val. Acc: 96.88% |\n",
      "| Epoch: 08 | Train Loss: 0.208 | Train Acc: 92.46% | Val. Loss: 0.153 | Val. Acc: 96.88% |\n",
      "| Epoch: 09 | Train Loss: 0.213 | Train Acc: 92.29% | Val. Loss: 0.154 | Val. Acc: 96.88% |\n",
      "| Epoch: 10 | Train Loss: 0.215 | Train Acc: 91.49% | Val. Loss: 0.144 | Val. Acc: 96.88% |\n"
     ]
    }
   ],
   "source": [
    "import os\n",
    "EPOCHS = 10\n",
    "SAVE_DIR = 'models'\n",
    "MODEL_SAVE_PATH = os.path.join(SAVE_DIR, 'resnet-lora.pt')\n",
    "\n",
    "best_valid_loss = float('inf')\n",
    "best_valid_acc = 0.0\n",
    "\n",
    "if not os.path.isdir(f'{SAVE_DIR}'):\n",
    "    os.makedirs(f'{SAVE_DIR}')\n",
    "\n",
    "for epoch in range(EPOCHS):\n",
    "    train_loss, train_acc = train(model, device, train_iterator, optimizer, criterion)\n",
    "    valid_loss, valid_acc = evaluate(model, device, valid_iterator, criterion)\n",
    "    \n",
    "    if valid_loss < best_valid_loss:\n",
    "        best_valid_loss = valid_loss\n",
    "        best_valid_acc = valid_acc\n",
    "\n",
    "        torch.save(model.state_dict(), MODEL_SAVE_PATH)\n",
    "    \n",
    "    print(f'| Epoch: {epoch+1:02} | Train Loss: {train_loss:.3f} | Train Acc: {train_acc*100:05.2f}% | Val. Loss: {valid_loss:.3f} | Val. Acc: {valid_acc*100:05.2f}% |')\n",
    "\n"
   ]
  },
  {
   "cell_type": "code",
   "execution_count": 23,
   "id": "7a4f9ff4",
   "metadata": {
    "execution": {
     "iopub.execute_input": "2024-05-30T09:42:12.187051Z",
     "iopub.status.busy": "2024-05-30T09:42:12.186400Z",
     "iopub.status.idle": "2024-05-30T09:42:13.261291Z",
     "shell.execute_reply": "2024-05-30T09:42:13.260062Z"
    },
    "papermill": {
     "duration": 1.252109,
     "end_time": "2024-05-30T09:42:13.263223",
     "exception": false,
     "start_time": "2024-05-30T09:42:12.011114",
     "status": "completed"
    },
    "tags": []
   },
   "outputs": [
    {
     "name": "stdout",
     "output_type": "stream",
     "text": [
      "| Test Loss: 0.144 | Test Acc: 96.88% |\n"
     ]
    }
   ],
   "source": [
    "model.load_state_dict(torch.load(MODEL_SAVE_PATH))\n",
    "\n",
    "test_loss, test_acc = evaluate(model, device, valid_iterator, criterion)\n",
    "\n",
    "print(f'| Test Loss: {test_loss:.3f} | Test Acc: {test_acc*100:05.2f}% |')"
   ]
  },
  {
   "cell_type": "code",
   "execution_count": 24,
   "id": "e0a25cc3",
   "metadata": {
    "execution": {
     "iopub.execute_input": "2024-05-30T09:42:13.611650Z",
     "iopub.status.busy": "2024-05-30T09:42:13.610859Z",
     "iopub.status.idle": "2024-05-30T09:45:06.383818Z",
     "shell.execute_reply": "2024-05-30T09:45:06.382729Z"
    },
    "papermill": {
     "duration": 172.948376,
     "end_time": "2024-05-30T09:45:06.385795",
     "exception": false,
     "start_time": "2024-05-30T09:42:13.437419",
     "status": "completed"
    },
    "tags": []
   },
   "outputs": [
    {
     "name": "stdout",
     "output_type": "stream",
     "text": [
      "Training Loss: 0.196 | Training Accuracy: 92.96%\n",
      "Test Loss: 0.375 | Test Accuracy: 89.47%\n"
     ]
    },
    {
     "data": {
      "image/png": "[encoded data removed]",
      "text/plain": [
       "<Figure size 800x600 with 2 Axes>"
      ]
     },
     "metadata": {},
     "output_type": "display_data"
    }
   ],
   "source": [
    "\n",
    "train_true_labels = []\n",
    "train_predicted_labels = []\n",
    "test_true_labels = []\n",
    "test_predicted_labels = []\n",
    "\n",
    "model.eval()\n",
    "\n",
    "train_loss, train_acc = evaluate(model, device, train_iterator, criterion)\n",
    "print(f'Training Loss: {train_loss:.3f} | Training Accuracy: {train_acc * 100:.2f}%')\n",
    "\n",
    "\n",
    "for (x, y) in train_iterator:\n",
    "    x = x.to(device)\n",
    "    y = y.to(device)\n",
    "\n",
    "    with torch.no_grad():\n",
    "        fx = model(x)\n",
    "\n",
    "\n",
    "    predicted_class = fx.argmax(1)\n",
    "    \n",
    "   \n",
    "    train_true_labels.extend(y.cpu().numpy())\n",
    "    train_predicted_labels.extend(predicted_class.cpu().numpy())\n",
    "\n",
    "test_loss, test_acc = evaluate(model, device, test_iterator, criterion)\n",
    "print(f'Test Loss: {test_loss:.3f} | Test Accuracy: {test_acc * 100:.2f}%')\n",
    "\n",
    "for (x, y) in test_iterator:\n",
    "    x = x.to(device)\n",
    "    y = y.to(device)\n",
    "\n",
    "    with torch.no_grad():\n",
    "        fx = model(x)\n",
    "\n",
    " \n",
    "    predicted_class = fx.argmax(1)\n",
    "    \n",
    "    \n",
    "    test_true_labels.extend(y.cpu().numpy())\n",
    "    test_predicted_labels.extend(predicted_class.cpu().numpy())\n",
    "\n",
    "\n",
    "from sklearn.metrics import confusion_matrix\n",
    "import seaborn as sns\n",
    "import matplotlib.pyplot as plt\n",
    "\n",
    "\n",
    "test_confusion = confusion_matrix(test_true_labels, test_predicted_labels)\n",
    "\n",
    "\n",
    "classes = ['Lora', 'nonLora']  \n",
    "plt.figure(figsize=(8, 6))\n",
    "sns.heatmap(test_confusion, annot=True, fmt='d', cmap='Blues', xticklabels=classes, yticklabels=classes)\n",
    "plt.xlabel('Predicted')\n",
    "plt.ylabel('True')\n",
    "plt.title('Test Set Confusion Matrix')\n",
    "plt.show()\n"
   ]
  },
  {
   "cell_type": "code",
   "execution_count": 25,
   "id": "e3b0a67c",
   "metadata": {
    "execution": {
     "iopub.execute_input": "2024-05-30T09:45:06.737978Z",
     "iopub.status.busy": "2024-05-30T09:45:06.737435Z",
     "iopub.status.idle": "2024-05-30T09:45:06.745413Z",
     "shell.execute_reply": "2024-05-30T09:45:06.744527Z"
    },
    "papermill": {
     "duration": 0.18281,
     "end_time": "2024-05-30T09:45:06.747442",
     "exception": false,
     "start_time": "2024-05-30T09:45:06.564632",
     "status": "completed"
    },
    "tags": []
   },
   "outputs": [
    {
     "name": "stdout",
     "output_type": "stream",
     "text": [
      "0.106 0.106\n"
     ]
    }
   ],
   "source": [
    "# calculate false positives\n",
    "false_positives = test_confusion.sum(axis=0) - np.diag(test_confusion)\n",
    "\n",
    "# calculate false negatives\n",
    "false_negatives = test_confusion.sum(axis=1) - np.diag(test_confusion)\n",
    "# calculate false positive rate\n",
    "false_positive_rate = false_positives.sum() / (false_positives.sum() + np.diag(test_confusion).sum())\n",
    "\n",
    "# calculate false negative rate\n",
    "false_negative_rate = false_negatives.sum() / (false_negatives.sum() + np.diag(test_confusion).sum())\n",
    "print(false_positive_rate,false_negative_rate)"
   ]
  },
  {
   "cell_type": "code",
   "execution_count": null,
   "id": "9cb094fb",
   "metadata": {
    "execution": {
     "iopub.execute_input": "2024-05-30T09:45:07.096376Z",
     "iopub.status.busy": "2024-05-30T09:45:07.095594Z",
     "iopub.status.idle": "2024-05-30T09:45:07.823940Z",
     "shell.execute_reply": "2024-05-30T09:45:07.822610Z"
    },
    "papermill": {
     "duration": 0.904204,
     "end_time": "2024-05-30T09:45:07.825517",
     "exception": true,
     "start_time": "2024-05-30T09:45:06.921313",
     "status": "failed"
    },
    "tags": []
   },
   "outputs": [],
   "source": [
    "from PIL import Image\n",
    "import torch\n",
    "\n",
    "# Load and preprocess the image\n",
    "image_path = '/kaggle/working/lora-nonlora/test/nonLora/0_2487N.png'\n",
    "image = Image.open(image_path)\n",
    "\n",
    "# Apply the same preprocessing transformations used for the dataset\n",
    "image_transforms = transforms.Compose([\n",
    "    transforms.Resize((224, 224)),\n",
    "    transforms.ToTensor(),\n",
    "    transforms.Normalize((0.485, 0.456, 0.406), (0.229, 0.224, 0.225))\n",
    "])\n",
    "preprocessed_image = image_transforms(image).unsqueeze(0)  # Add batch dimension\n",
    "\n",
    "# Ensure the model is in evaluation mode\n",
    "model.eval()\n",
    "\n",
    "# Move the preprocessed image to the same device used for training (CPU or GPU)\n",
    "preprocessed_image = preprocessed_image.to(device)\n",
    "\n",
    "# Pass the image through the model\n",
    "with torch.no_grad():\n",
    "    output = model(preprocessed_image)\n",
    "\n",
    "# Get the predicted class (assuming you have 2 classes)\n",
    "predicted_class = output.argmax().item()\n",
    "\n",
    "# Print the predicted class or use it for further processing\n",
    "print(f'Predicted class: {predicted_class}')\n"
   ]
  },
  {
   "cell_type": "code",
   "execution_count": null,
   "id": "28e092d7",
   "metadata": {
    "execution": {
     "iopub.execute_input": "2024-05-30T09:22:45.658503Z",
     "iopub.status.busy": "2024-05-30T09:22:45.657652Z",
     "iopub.status.idle": "2024-05-30T09:22:58.189233Z",
     "shell.execute_reply": "2024-05-30T09:22:58.188233Z",
     "shell.execute_reply.started": "2024-05-30T09:22:45.658473Z"
    },
    "papermill": {
     "duration": null,
     "end_time": null,
     "exception": null,
     "start_time": null,
     "status": "pending"
    },
    "tags": []
   },
   "outputs": [],
   "source": [
    "from PIL import Image\n",
    "import os\n",
    "\n",
    "# Directory path containing the images you want to classify\n",
    "image_directory = '/kaggle/working/lora-nonlora/test/nonLora'\n",
    "\n",
    "# List of image file names in the directory\n",
    "image_filenames = os.listdir(image_directory)\n",
    "\n",
    "# Apply the same preprocessing transformations used for the dataset\n",
    "image_transforms = transforms.Compose([\n",
    "    transforms.Resize((224, 224)),\n",
    "    transforms.ToTensor(),\n",
    "    transforms.Normalize((0.485, 0.456, 0.406), (0.229, 0.224, 0.225))\n",
    "])\n",
    "\n",
    "# Ensure the model is in evaluation mode\n",
    "model.eval()\n",
    "\n",
    "# Initialize a list to store predictions\n",
    "predictions = []\n",
    "\n",
    "# Loop through each image and get predictions\n",
    "for filename in image_filenames:\n",
    "    image_path = os.path.join(image_directory, filename)\n",
    "    image = Image.open(image_path)\n",
    "    \n",
    "    # Preprocess the image\n",
    "    preprocessed_image = image_transforms(image).unsqueeze(0)  # Add batch dimension\n",
    "\n",
    "    # Move the preprocessed image to the same device used for training (CPU or GPU)\n",
    "    preprocessed_image = preprocessed_image.to(device)\n",
    "\n",
    "    # Pass the image through the model\n",
    "    with torch.no_grad():\n",
    "        output = model(preprocessed_image)\n",
    "\n",
    "    # Get the predicted class (assuming you have 2 classes)\n",
    "    predicted_class = output.argmax().item()\n",
    "\n",
    "    # Store the filename and predicted class in the predictions list\n",
    "    predictions.append((filename, predicted_class))\n",
    "\n",
    "# Print or process the predictions\n",
    "for filename, predicted_class in predictions:\n",
    "    print(f'Image: {filename}, Predicted class: {predicted_class}')\n"
   ]
  },
  {
   "cell_type": "code",
   "execution_count": null,
   "id": "df946f02",
   "metadata": {
    "execution": {
     "iopub.execute_input": "2024-05-30T09:21:31.846831Z",
     "iopub.status.busy": "2024-05-30T09:21:31.846398Z",
     "iopub.status.idle": "2024-05-30T09:21:41.952955Z",
     "shell.execute_reply": "2024-05-30T09:21:41.952022Z",
     "shell.execute_reply.started": "2024-05-30T09:21:31.846798Z"
    },
    "papermill": {
     "duration": null,
     "end_time": null,
     "exception": null,
     "start_time": null,
     "status": "pending"
    },
    "tags": []
   },
   "outputs": [],
   "source": [
    "import torch\n",
    "import torchvision.models as models\n",
    "\n",
    "\n",
    "# Load the model\n",
    "\n",
    "# model_checkpoint = torch.load('C:/Users/Abhijith/Desktop/loramodel/models/resnet-lora.pt')\n",
    "# model = model_checkpoint['model']\n",
    "model.eval()\n",
    "from PIL import Image\n",
    "import os\n",
    "\n",
    "# Directory path containing the images you want to classify\n",
    "image_directory = '/kaggle/working/lora-nonlora/test/Lora'\n",
    "\n",
    "# List of image file names in the directory\n",
    "image_filenames = os.listdir(image_directory)\n",
    "\n",
    "# Apply the same preprocessing transformations used for the dataset\n",
    "image_transforms = transforms.Compose([\n",
    "    transforms.Resize((224, 224)),\n",
    "    transforms.ToTensor(),\n",
    "    transforms.Normalize((0.485, 0.456, 0.406), (0.229, 0.224, 0.225))\n",
    "])\n",
    "# You can now use the model for inference, e.g., for making predictions\n",
    "# Make sure to preprocess your input data appropriately before passing it to the model\n",
    "# Initialize a list to store predictions\n",
    "predictions = []\n",
    "\n",
    "# Loop through each image and get predictions\n",
    "for filename in image_filenames:\n",
    "    image_path = os.path.join(image_directory, filename)\n",
    "    image = Image.open(image_path)\n",
    "    \n",
    "    # Preprocess the image\n",
    "    preprocessed_image = image_transforms(image).unsqueeze(0)  # Add batch dimension\n",
    "\n",
    "    # Move the preprocessed image to the same device used for training (CPU or GPU)\n",
    "    preprocessed_image = preprocessed_image.to(device)\n",
    "\n",
    "    # Pass the image through the model\n",
    "    with torch.no_grad():\n",
    "        output = model(preprocessed_image)\n",
    "\n",
    "    # Get the predicted class (assuming you have 2 classes)\n",
    "    predicted_class = output.argmax().item()\n",
    "\n",
    "    # Store the filename and predicted class in the predictions list\n",
    "    predictions.append((filename, predicted_class))\n",
    "\n",
    "# Print or process the predictions\n",
    "for filename, predicted_class in predictions:\n",
    "    print(f'Image: {filename}, Predicted class: {predicted_class}')"
   ]
  },
  {
   "cell_type": "code",
   "execution_count": null,
   "id": "486b2ec1",
   "metadata": {
    "papermill": {
     "duration": null,
     "end_time": null,
     "exception": null,
     "start_time": null,
     "status": "pending"
    },
    "tags": []
   },
   "outputs": [],
   "source": []
  }
 ],
 "metadata": {
  "kaggle": {
   "accelerator": "gpu",
   "dataSources": [],
   "dockerImageVersionId": 30699,
   "isGpuEnabled": true,
   "isInternetEnabled": true,
   "language": "python",
   "sourceType": "notebook"
  },
  "kernelspec": {
   "display_name": "Python 3",
   "language": "python",
   "name": "python3"
  },
  "language_info": {
   "codemirror_mode": {
    "name": "ipython",
    "version": 3
   },
   "file_extension": ".py",
   "mimetype": "text/x-python",
   "name": "python",
   "nbconvert_exporter": "python",
   "pygments_lexer": "ipython3",
   "version": "3.10.13"
  },
  "papermill": {
   "default_parameters": {},
   "duration": 1152.853871,
   "end_time": "2024-05-30T09:45:10.259019",
   "environment_variables": {},
   "exception": true,
   "input_path": "__notebook__.ipynb",
   "output_path": "__notebook__.ipynb",
   "parameters": {},
   "start_time": "2024-05-30T09:25:57.405148",
   "version": "2.5.0"
  }
 },
 "nbformat": 4,
 "nbformat_minor": 5
}
